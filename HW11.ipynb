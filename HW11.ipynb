{
  "nbformat": 4,
  "nbformat_minor": 0,
  "metadata": {
    "colab": {
      "name": "HW11.ipynb",
      "provenance": [],
      "authorship_tag": "ABX9TyMKXf+1wQBh6simnNIjKiKd",
      "include_colab_link": true
    },
    "kernelspec": {
      "name": "python3",
      "display_name": "Python 3"
    },
    "accelerator": "GPU"
  },
  "cells": [
    {
      "cell_type": "markdown",
      "metadata": {
        "id": "view-in-github",
        "colab_type": "text"
      },
      "source": [
        "<a href=\"https://colab.research.google.com/github/hdgh463/AI/blob/master/HW11.ipynb\" target=\"_parent\"><img src=\"https://colab.research.google.com/assets/colab-badge.svg\" alt=\"Open In Colab\"/></a>"
      ]
    },
    {
      "cell_type": "code",
      "metadata": {
        "id": "JicQbgN-YxZQ",
        "colab_type": "code",
        "colab": {
          "base_uri": "https://localhost:8080/",
          "height": 768
        },
        "outputId": "e024e741-b878-4dfe-d805-7f14483c6f26"
      },
      "source": [
        "\n",
        "!pip install opencc-python-reimplemented\n",
        "!wget https://dumps.wikimedia.org/zhwiki/20200301/zhwiki-20200301-pages-articles-multistream1.xml-p1p162886.bz2 #去維基下載資料\n",
        "\n",
        "\n",
        "\n",
        "from gensim.corpora import WikiCorpus\n",
        "\n",
        "wiki_corpus = WikiCorpus('zhwiki-20200301-pages-articles-multistream1.xml-p1p162886.bz2', dictionary={}) #放入資料\n",
        "next(iter(wiki_corpus.get_texts()))[:10] #取1/10\n",
        "\n",
        "text_num = 0\n",
        "\n",
        "with open('wiki_text.txt', 'w', encoding='utf-8') as f: #創建文件檔\n",
        "    for text in wiki_corpus.get_texts(): #加入剛取得1/10的單字\n",
        "        f.write(' '.join(text)+'\\n')\n",
        "        text_num += 1\n",
        "        if text_num % 10000 == 0:\n",
        "            print('{} articles processed.'.format(text_num))\n",
        "\n",
        "    print('{} articles processed.'.format(text_num))\n",
        "\n",
        "import jieba\n",
        "from opencc import OpenCC\n",
        "\n",
        "\n",
        "# Initial\n",
        "cc = OpenCC('s2t') #設定轉繁體\n",
        "train_data = open('wiki_text.txt', 'r', encoding='utf-8').read() #導入資料\n",
        "train_data = cc.convert(train_data) #轉繁體\n",
        "train_data = jieba.lcut(train_data) #結巴分詞\n",
        "train_data = [word for word in train_data if word != ''] #去除空白單字\n",
        "train_data = ' '.join(train_data) #加入單字\n",
        "open('seg.txt', 'w', encoding='utf-8').write(train_data) #儲存成文件檔\n",
        "\n",
        "from gensim.models import word2vec\n",
        "\n",
        "\n",
        "# Settings\n",
        "seed = 666 #隨機數\n",
        "sg = 0 #選擇模型\n",
        "window_size = 10 #前詞和預測值的最大距離\n",
        "vector_size = 100 #詞頻大於100丟少的\n",
        "min_count = 1 #詞頻少於1不用\n",
        "workers = 8 #一次訓練8個\n",
        "epochs = 5 #每批中每個單字輪5次\n",
        "batch_words = 10000 #每一批傳遞的單字量\n",
        "\n",
        "train_data = word2vec.LineSentence('seg.txt') #放入資料\n",
        "model = word2vec.Word2Vec(\n",
        "    train_data,\n",
        "    min_count=min_count,\n",
        "    size=vector_size,\n",
        "    workers=workers,\n",
        "    iter=epochs,\n",
        "    window=window_size,\n",
        "    sg=sg,\n",
        "    seed=seed,\n",
        "    batch_words=batch_words\n",
        ") #建立模型\n",
        "\n",
        "model.save('word2vec.model') #儲存結果\n",
        "\n",
        "\n",
        "from gensim.models import word2vec\n",
        "\n",
        "string = '開刀' #輸入\n",
        "model = word2vec.Word2Vec.load('word2vec.model') #儲存詞向量\n",
        "print(string)\n",
        "\n",
        "for item in model.wv.most_similar(string): #找跟輸入有關的詞\n",
        "    print(item)\n",
        "\n"
      ],
      "execution_count": 1,
      "outputs": [
        {
          "output_type": "stream",
          "text": [
            "Collecting opencc-python-reimplemented\n",
            "\u001b[?25l  Downloading https://files.pythonhosted.org/packages/53/0c/c499c86a719c925a08586085a56f92f3235c03ee8b4db2e59c1e9aab3f55/opencc-python-reimplemented-0.1.5.tar.gz (482kB)\n",
            "\r\u001b[K     |▊                               | 10kB 30.0MB/s eta 0:00:01\r\u001b[K     |█▍                              | 20kB 6.3MB/s eta 0:00:01\r\u001b[K     |██                              | 30kB 8.9MB/s eta 0:00:01\r\u001b[K     |██▊                             | 40kB 11.3MB/s eta 0:00:01\r\u001b[K     |███▍                            | 51kB 7.4MB/s eta 0:00:01\r\u001b[K     |████                            | 61kB 8.7MB/s eta 0:00:01\r\u001b[K     |████▊                           | 71kB 9.9MB/s eta 0:00:01\r\u001b[K     |█████▍                          | 81kB 10.9MB/s eta 0:00:01\r\u001b[K     |██████                          | 92kB 8.7MB/s eta 0:00:01\r\u001b[K     |██████▉                         | 102kB 9.5MB/s eta 0:00:01\r\u001b[K     |███████▌                        | 112kB 9.5MB/s eta 0:00:01\r\u001b[K     |████████▏                       | 122kB 9.5MB/s eta 0:00:01\r\u001b[K     |████████▉                       | 133kB 9.5MB/s eta 0:00:01\r\u001b[K     |█████████▌                      | 143kB 9.5MB/s eta 0:00:01\r\u001b[K     |██████████▏                     | 153kB 9.5MB/s eta 0:00:01\r\u001b[K     |██████████▉                     | 163kB 9.5MB/s eta 0:00:01\r\u001b[K     |███████████▌                    | 174kB 9.5MB/s eta 0:00:01\r\u001b[K     |████████████▏                   | 184kB 9.5MB/s eta 0:00:01\r\u001b[K     |█████████████                   | 194kB 9.5MB/s eta 0:00:01\r\u001b[K     |█████████████▋                  | 204kB 9.5MB/s eta 0:00:01\r\u001b[K     |██████████████▎                 | 215kB 9.5MB/s eta 0:00:01\r\u001b[K     |███████████████                 | 225kB 9.5MB/s eta 0:00:01\r\u001b[K     |███████████████▋                | 235kB 9.5MB/s eta 0:00:01\r\u001b[K     |████████████████▎               | 245kB 9.5MB/s eta 0:00:01\r\u001b[K     |█████████████████               | 256kB 9.5MB/s eta 0:00:01\r\u001b[K     |█████████████████▋              | 266kB 9.5MB/s eta 0:00:01\r\u001b[K     |██████████████████▎             | 276kB 9.5MB/s eta 0:00:01\r\u001b[K     |███████████████████             | 286kB 9.5MB/s eta 0:00:01\r\u001b[K     |███████████████████▊            | 296kB 9.5MB/s eta 0:00:01\r\u001b[K     |████████████████████▍           | 307kB 9.5MB/s eta 0:00:01\r\u001b[K     |█████████████████████           | 317kB 9.5MB/s eta 0:00:01\r\u001b[K     |█████████████████████▊          | 327kB 9.5MB/s eta 0:00:01\r\u001b[K     |██████████████████████▍         | 337kB 9.5MB/s eta 0:00:01\r\u001b[K     |███████████████████████         | 348kB 9.5MB/s eta 0:00:01\r\u001b[K     |███████████████████████▊        | 358kB 9.5MB/s eta 0:00:01\r\u001b[K     |████████████████████████▍       | 368kB 9.5MB/s eta 0:00:01\r\u001b[K     |█████████████████████████       | 378kB 9.5MB/s eta 0:00:01\r\u001b[K     |█████████████████████████▉      | 389kB 9.5MB/s eta 0:00:01\r\u001b[K     |██████████████████████████▌     | 399kB 9.5MB/s eta 0:00:01\r\u001b[K     |███████████████████████████▏    | 409kB 9.5MB/s eta 0:00:01\r\u001b[K     |███████████████████████████▉    | 419kB 9.5MB/s eta 0:00:01\r\u001b[K     |████████████████████████████▌   | 430kB 9.5MB/s eta 0:00:01\r\u001b[K     |█████████████████████████████▏  | 440kB 9.5MB/s eta 0:00:01\r\u001b[K     |█████████████████████████████▉  | 450kB 9.5MB/s eta 0:00:01\r\u001b[K     |██████████████████████████████▌ | 460kB 9.5MB/s eta 0:00:01\r\u001b[K     |███████████████████████████████▏| 471kB 9.5MB/s eta 0:00:01\r\u001b[K     |████████████████████████████████| 481kB 9.5MB/s eta 0:00:01\r\u001b[K     |████████████████████████████████| 491kB 9.5MB/s \n",
            "\u001b[?25hBuilding wheels for collected packages: opencc-python-reimplemented\n",
            "  Building wheel for opencc-python-reimplemented (setup.py) ... \u001b[?25l\u001b[?25hdone\n",
            "  Created wheel for opencc-python-reimplemented: filename=opencc_python_reimplemented-0.1.5-py2.py3-none-any.whl size=485664 sha256=abed5082c3bba8883c00e6b355fff2a24df5c71b8f7995a96a6d61789a558eff\n",
            "  Stored in directory: /root/.cache/pip/wheels/36/a0/10/888b9ac7f10154caaa6a73270b1f085e0a7b241baa672bbe49\n",
            "Successfully built opencc-python-reimplemented\n",
            "Installing collected packages: opencc-python-reimplemented\n",
            "Successfully installed opencc-python-reimplemented-0.1.5\n",
            "--2020-04-26 06:45:30--  https://dumps.wikimedia.org/zhwiki/20200301/zhwiki-20200301-pages-articles-multistream1.xml-p1p162886.bz2\n",
            "Resolving dumps.wikimedia.org (dumps.wikimedia.org)... 208.80.154.7, 2620:0:861:1:208:80:154:7\n",
            "Connecting to dumps.wikimedia.org (dumps.wikimedia.org)|208.80.154.7|:443... connected.\n",
            "HTTP request sent, awaiting response... 200 OK\n",
            "Length: 172586252 (165M) [application/octet-stream]\n",
            "Saving to: ‘zhwiki-20200301-pages-articles-multistream1.xml-p1p162886.bz2’\n",
            "\n",
            "zhwiki-20200301-pag 100%[===================>] 164.59M  4.89MB/s    in 34s     \n",
            "\n",
            "2020-04-26 06:46:04 (4.91 MB/s) - ‘zhwiki-20200301-pages-articles-multistream1.xml-p1p162886.bz2’ saved [172586252/172586252]\n",
            "\n",
            "10000 articles processed.\n",
            "20000 articles processed.\n",
            "27590 articles processed.\n"
          ],
          "name": "stdout"
        },
        {
          "output_type": "stream",
          "text": [
            "Building prefix dict from the default dictionary ...\n",
            "Dumping model to file cache /tmp/jieba.cache\n",
            "Loading model cost 0.717 seconds.\n",
            "Prefix dict has been built successfully.\n",
            "/usr/local/lib/python3.6/dist-packages/smart_open/smart_open_lib.py:253: UserWarning: This function is deprecated, use smart_open.open instead. See the migration notes for details: https://github.com/RaRe-Technologies/smart_open/blob/master/README.rst#migrating-to-the-new-open-function\n",
            "  'See the migration notes for details: %s' % _MIGRATION_NOTES_URL\n"
          ],
          "name": "stderr"
        },
        {
          "output_type": "stream",
          "text": [
            "開刀\n",
            "('病人', 0.7615276575088501)\n",
            "('手術', 0.7541905641555786)\n",
            "('患上', 0.723257839679718)\n",
            "('不適', 0.719580888748169)\n",
            "('患有', 0.7112554907798767)\n",
            "('睡眠', 0.7095690965652466)\n",
            "('住院', 0.7091484069824219)\n",
            "('昏迷', 0.7090358734130859)\n",
            "('病情', 0.703491747379303)\n",
            "('入院', 0.7003732919692993)\n"
          ],
          "name": "stdout"
        },
        {
          "output_type": "stream",
          "text": [
            "/usr/local/lib/python3.6/dist-packages/gensim/matutils.py:737: FutureWarning: Conversion of the second argument of issubdtype from `int` to `np.signedinteger` is deprecated. In future, it will be treated as `np.int64 == np.dtype(int).type`.\n",
            "  if np.issubdtype(vec.dtype, np.int):\n"
          ],
          "name": "stderr"
        }
      ]
    }
  ]
}