{
  "nbformat": 4,
  "nbformat_minor": 0,
  "metadata": {
    "colab": {
      "name": "HW2.ipynb",
      "provenance": []
    },
    "kernelspec": {
      "name": "python3",
      "display_name": "Python 3"
    }
  },
  "cells": [
    {
      "cell_type": "code",
      "metadata": {
        "id": "qbam2aRteocJ",
        "colab_type": "code",
        "colab": {
          "base_uri": "https://localhost:8080/",
          "height": 476
        },
        "outputId": "2243667f-b3fc-4c05-ccb3-ab6a5a7acdc9"
      },
      "source": [
        "\n",
        "import keras\n",
        "from keras.models import Sequential\n",
        "from keras.layers import Dense\n",
        "\n",
        "import numpy as np\n",
        "data = np.random.random((1000, 10)) #隨機產生1000筆資料，每筆資料1包含十個float數字\n",
        "labels = np.random.randint(2, size=(1000, 1)) #隨機產生1000筆資料，每筆資料上限為2(意思就是0 或 1)\n",
        "print(np.shape(data)) #顯示訓練資料大小\n",
        "print(data[0]) #顯示第一筆資料\n",
        "print(np.shape(labels)) #顯示測試資料大小\n",
        "print(labels[0]) #顯示第一筆資料\n",
        "\n",
        "model = Sequential() #建立模型\n",
        "model.add(Dense(32, activation='relu', input_dim=10)) #32個神經元 10個輸入\n",
        "model.add(Dense(1, activation='sigmoid')) #1個輸出\n",
        "model.compile(optimizer='rmsprop', loss='binary_crossentropy', metrics=['accuracy']) #選擇優化器\n",
        "\n",
        "model.fit(data, labels, epochs=10, batch_size=32) #訓練10次\n",
        "score=model.evaluate(data, labels) #評估模型\n",
        "print(score[1]) #顯示第一筆資料"
      ],
      "execution_count": 4,
      "outputs": [
        {
          "output_type": "stream",
          "text": [
            "(1000, 10)\n",
            "[0.21226924 0.22704752 0.22512532 0.88172364 0.46901213 0.69152628\n",
            " 0.43575843 0.91715482 0.85964453 0.49163079]\n",
            "(1000, 1)\n",
            "[1]\n",
            "Epoch 1/10\n",
            "1000/1000 [==============================] - 0s 88us/step - loss: 0.6931 - accuracy: 0.5190\n",
            "Epoch 2/10\n",
            "1000/1000 [==============================] - 0s 34us/step - loss: 0.6916 - accuracy: 0.5230\n",
            "Epoch 3/10\n",
            "1000/1000 [==============================] - 0s 35us/step - loss: 0.6903 - accuracy: 0.5220\n",
            "Epoch 4/10\n",
            "1000/1000 [==============================] - 0s 32us/step - loss: 0.6897 - accuracy: 0.5280\n",
            "Epoch 5/10\n",
            "1000/1000 [==============================] - 0s 35us/step - loss: 0.6886 - accuracy: 0.5420\n",
            "Epoch 6/10\n",
            "1000/1000 [==============================] - 0s 33us/step - loss: 0.6884 - accuracy: 0.5390\n",
            "Epoch 7/10\n",
            "1000/1000 [==============================] - 0s 34us/step - loss: 0.6874 - accuracy: 0.5360\n",
            "Epoch 8/10\n",
            "1000/1000 [==============================] - 0s 35us/step - loss: 0.6866 - accuracy: 0.5430\n",
            "Epoch 9/10\n",
            "1000/1000 [==============================] - 0s 37us/step - loss: 0.6861 - accuracy: 0.5440\n",
            "Epoch 10/10\n",
            "1000/1000 [==============================] - 0s 34us/step - loss: 0.6852 - accuracy: 0.5330\n",
            "1000/1000 [==============================] - 0s 34us/step\n",
            "0.5550000071525574\n"
          ],
          "name": "stdout"
        }
      ]
    }
  ]
}