{
  "nbformat": 4,
  "nbformat_minor": 0,
  "metadata": {
    "colab": {
      "name": "HW3.ipynb",
      "provenance": [],
      "authorship_tag": "ABX9TyPEGz4ijatMr2olDAIVvMfV",
      "include_colab_link": true
    },
    "kernelspec": {
      "name": "python3",
      "display_name": "Python 3"
    }
  },
  "cells": [
    {
      "cell_type": "markdown",
      "metadata": {
        "id": "view-in-github",
        "colab_type": "text"
      },
      "source": [
        "<a href=\"https://colab.research.google.com/github/hdgh463/AI/blob/master/HW3.ipynb\" target=\"_parent\"><img src=\"https://colab.research.google.com/assets/colab-badge.svg\" alt=\"Open In Colab\"/></a>"
      ]
    },
    {
      "cell_type": "code",
      "metadata": {
        "id": "NrttMilBkGfR",
        "colab_type": "code",
        "colab": {
          "base_uri": "https://localhost:8080/",
          "height": 731
        },
        "outputId": "5ba303a1-8dcb-45e2-eacd-57018838d113"
      },
      "source": [
        "import keras\n",
        "from keras.models import Sequential\n",
        "from keras.layers import Dense, Dropout, Activation\n",
        "from keras.optimizers import SGD\n",
        "\n",
        "# Generate dummy data\n",
        "import numpy as np\n",
        "x_train = np.random.random((1000, 10)) #隨機生成訓練資料\n",
        "y_train = keras.utils.to_categorical(np.random.randint(10, size=(1000, 1)), num_classes=10) #隨機生成訓練資料答案\n",
        "x_test = np.random.random((100, 10)) #隨機生成測試資料\n",
        "y_test = keras.utils.to_categorical(np.random.randint(10, size=(100, 1)), num_classes=10) #隨機生成訓練資料答案\n",
        "\n",
        "model = Sequential() #建立模型\n",
        "model.add(Dense(64, activation='relu', input_dim=10)) #64個神經元 10個輸入\n",
        "model.add(Dense(64, activation='relu')) #64個神經元的隱藏層\n",
        "model.add(Dense(10, activation='softmax')) #輸出層10個神經元\n",
        "sgd = SGD(lr=0.01, decay=1e-6, momentum=0.9, nesterov=True) #選擇優化器\n",
        "model.compile(loss='categorical_crossentropy', optimizer=sgd, metrics=['accuracy']) #建立優化器\n",
        "\n",
        "model.fit(x_train, y_train, epochs=20, batch_size=128) #訓練20次\n",
        "score = model.evaluate(x_test, y_test, batch_size=128) #評估模型\n",
        "print(score)"
      ],
      "execution_count": 2,
      "outputs": [
        {
          "output_type": "stream",
          "text": [
            "Epoch 1/20\n",
            "1000/1000 [==============================] - 0s 65us/step - loss: 2.3059 - accuracy: 0.1010\n",
            "Epoch 2/20\n",
            "1000/1000 [==============================] - 0s 13us/step - loss: 2.3027 - accuracy: 0.0990\n",
            "Epoch 3/20\n",
            "1000/1000 [==============================] - 0s 13us/step - loss: 2.2997 - accuracy: 0.1030\n",
            "Epoch 4/20\n",
            "1000/1000 [==============================] - 0s 14us/step - loss: 2.2979 - accuracy: 0.1170\n",
            "Epoch 5/20\n",
            "1000/1000 [==============================] - 0s 18us/step - loss: 2.2964 - accuracy: 0.1180\n",
            "Epoch 6/20\n",
            "1000/1000 [==============================] - 0s 12us/step - loss: 2.2955 - accuracy: 0.1230\n",
            "Epoch 7/20\n",
            "1000/1000 [==============================] - 0s 13us/step - loss: 2.2948 - accuracy: 0.1290\n",
            "Epoch 8/20\n",
            "1000/1000 [==============================] - 0s 13us/step - loss: 2.2938 - accuracy: 0.1350\n",
            "Epoch 9/20\n",
            "1000/1000 [==============================] - 0s 13us/step - loss: 2.2931 - accuracy: 0.1390\n",
            "Epoch 10/20\n",
            "1000/1000 [==============================] - 0s 13us/step - loss: 2.2923 - accuracy: 0.1410\n",
            "Epoch 11/20\n",
            "1000/1000 [==============================] - 0s 15us/step - loss: 2.2919 - accuracy: 0.1470\n",
            "Epoch 12/20\n",
            "1000/1000 [==============================] - 0s 13us/step - loss: 2.2913 - accuracy: 0.1480\n",
            "Epoch 13/20\n",
            "1000/1000 [==============================] - 0s 13us/step - loss: 2.2907 - accuracy: 0.1470\n",
            "Epoch 14/20\n",
            "1000/1000 [==============================] - 0s 14us/step - loss: 2.2901 - accuracy: 0.1450\n",
            "Epoch 15/20\n",
            "1000/1000 [==============================] - 0s 15us/step - loss: 2.2892 - accuracy: 0.1460\n",
            "Epoch 16/20\n",
            "1000/1000 [==============================] - 0s 18us/step - loss: 2.2887 - accuracy: 0.1440\n",
            "Epoch 17/20\n",
            "1000/1000 [==============================] - 0s 14us/step - loss: 2.2881 - accuracy: 0.1470\n",
            "Epoch 18/20\n",
            "1000/1000 [==============================] - 0s 16us/step - loss: 2.2875 - accuracy: 0.1500\n",
            "Epoch 19/20\n",
            "1000/1000 [==============================] - 0s 22us/step - loss: 2.2867 - accuracy: 0.1530\n",
            "Epoch 20/20\n",
            "1000/1000 [==============================] - 0s 14us/step - loss: 2.2861 - accuracy: 0.1550\n",
            "100/100 [==============================] - 0s 156us/step\n",
            "[2.3006465435028076, 0.15000000596046448]\n"
          ],
          "name": "stdout"
        }
      ]
    }
  ]
}