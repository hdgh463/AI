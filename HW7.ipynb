{
  "nbformat": 4,
  "nbformat_minor": 0,
  "metadata": {
    "colab": {
      "name": "HW7.ipynb",
      "provenance": [],
      "authorship_tag": "ABX9TyNdAqKEZqR/UteBFTpWNJKa",
      "include_colab_link": true
    },
    "kernelspec": {
      "name": "python3",
      "display_name": "Python 3"
    },
    "accelerator": "GPU"
  },
  "cells": [
    {
      "cell_type": "markdown",
      "metadata": {
        "id": "view-in-github",
        "colab_type": "text"
      },
      "source": [
        "<a href=\"https://colab.research.google.com/github/hdgh463/AI/blob/master/HW7.ipynb\" target=\"_parent\"><img src=\"https://colab.research.google.com/assets/colab-badge.svg\" alt=\"Open In Colab\"/></a>"
      ]
    },
    {
      "cell_type": "code",
      "metadata": {
        "id": "l4OK_sHhEpbQ",
        "colab_type": "code",
        "colab": {
          "base_uri": "https://localhost:8080/",
          "height": 1000
        },
        "outputId": "f7baf1da-47e9-4cb7-8c80-85ce2931f466"
      },
      "source": [
        "from keras.datasets import cifar10\n",
        "#導入資料\n",
        "(x_train, y_train_), (x_test, y_test_) = cifar10.load_data()\n",
        "#正規化\n",
        "x_train = x_train.astype('float32') / 255\n",
        "x_test = x_test.astype('float32') / 255\n",
        "#轉二進制\n",
        "from keras.utils import to_categorical\n",
        "y_train = to_categorical(y_train_)\n",
        "y_test = to_categorical(y_test_)\n",
        "\n",
        "\"\"\"## Model Definition\"\"\"\n",
        "#導入模組\n",
        "from keras.models import Sequential\n",
        "model = Sequential()\n",
        "\n",
        "from keras.layers import Conv2D, MaxPool2D, Flatten, Dense\n",
        "#創建捲積層32神經元大小3*3輸入為32*32*3\n",
        "model.add(Conv2D(filters=32, \n",
        "                kernel_size=(3, 3),\n",
        "                activation='relu',\n",
        "                input_shape=(32, 32, 3)))\n",
        "#最大池化層\n",
        "model.add(MaxPool2D())\n",
        "#創建捲積層32神經元大小3*3\n",
        "model.add(Conv2D(filters=64,\n",
        "                kernel_size=(3, 3),\n",
        "                activation='relu'))\n",
        "model.add(MaxPool2D())\n",
        "#改一維\n",
        "model.add(Flatten())\n",
        "#輸出層10神精元\n",
        "model.add(Dense(10, activation='softmax'))\n",
        "\n",
        "model.compile(optimizer='adam',\n",
        "             loss='categorical_crossentropy',\n",
        "             metrics=['accuracy'])\n",
        "#顯示模型\n",
        "print(model.summary())\n",
        "\n",
        "\"\"\"## Fitting\"\"\"\n",
        "#訓練\n",
        "history = model.fit(x_train, y_train, batch_size=50, epochs=15, verbose=1, validation_data=(x_test, y_test))\n",
        "#畫圖\n",
        "import matplotlib.pyplot as plt\n",
        "\n",
        "history_dict = history.history\n",
        "loss_values = history_dict['loss']\n",
        "val_loss_values = history_dict['val_loss']\n",
        "\n",
        "epochs = range(1, len(history_dict['accuracy']) + 1)\n",
        "\n",
        "plt.plot(epochs, loss_values, 'bo', label='Training loss')\n",
        "plt.plot(epochs, val_loss_values, 'b', label='Validation loss')\n",
        "plt.title('Training and validation loss')\n",
        "plt.xlabel('Epochs')\n",
        "plt.ylabel('Loss')\n",
        "plt.legend()\n",
        "\n",
        "plt.show()"
      ],
      "execution_count": 1,
      "outputs": [
        {
          "output_type": "stream",
          "text": [
            "Using TensorFlow backend.\n"
          ],
          "name": "stderr"
        },
        {
          "output_type": "stream",
          "text": [
            "Downloading data from https://www.cs.toronto.edu/~kriz/cifar-10-python.tar.gz\n",
            "170500096/170498071 [==============================] - 6s 0us/step\n",
            "Model: \"sequential_1\"\n",
            "_________________________________________________________________\n",
            "Layer (type)                 Output Shape              Param #   \n",
            "=================================================================\n",
            "conv2d_1 (Conv2D)            (None, 30, 30, 32)        896       \n",
            "_________________________________________________________________\n",
            "max_pooling2d_1 (MaxPooling2 (None, 15, 15, 32)        0         \n",
            "_________________________________________________________________\n",
            "conv2d_2 (Conv2D)            (None, 13, 13, 64)        18496     \n",
            "_________________________________________________________________\n",
            "max_pooling2d_2 (MaxPooling2 (None, 6, 6, 64)          0         \n",
            "_________________________________________________________________\n",
            "flatten_1 (Flatten)          (None, 2304)              0         \n",
            "_________________________________________________________________\n",
            "dense_1 (Dense)              (None, 10)                23050     \n",
            "=================================================================\n",
            "Total params: 42,442\n",
            "Trainable params: 42,442\n",
            "Non-trainable params: 0\n",
            "_________________________________________________________________\n",
            "None\n",
            "Train on 50000 samples, validate on 10000 samples\n",
            "Epoch 1/15\n",
            "50000/50000 [==============================] - 15s 297us/step - loss: 1.5576 - accuracy: 0.4456 - val_loss: 1.3205 - val_accuracy: 0.5347\n",
            "Epoch 2/15\n",
            "50000/50000 [==============================] - 9s 181us/step - loss: 1.2268 - accuracy: 0.5722 - val_loss: 1.1648 - val_accuracy: 0.5924\n",
            "Epoch 3/15\n",
            "50000/50000 [==============================] - 9s 177us/step - loss: 1.0895 - accuracy: 0.6210 - val_loss: 1.1041 - val_accuracy: 0.6205\n",
            "Epoch 4/15\n",
            "50000/50000 [==============================] - 9s 179us/step - loss: 1.0014 - accuracy: 0.6532 - val_loss: 1.0264 - val_accuracy: 0.6493\n",
            "Epoch 5/15\n",
            "50000/50000 [==============================] - 9s 178us/step - loss: 0.9440 - accuracy: 0.6737 - val_loss: 0.9859 - val_accuracy: 0.6696\n",
            "Epoch 6/15\n",
            "50000/50000 [==============================] - 9s 179us/step - loss: 0.9024 - accuracy: 0.6880 - val_loss: 0.9652 - val_accuracy: 0.6709\n",
            "Epoch 7/15\n",
            "50000/50000 [==============================] - 9s 179us/step - loss: 0.8605 - accuracy: 0.7065 - val_loss: 0.9793 - val_accuracy: 0.6659\n",
            "Epoch 8/15\n",
            "50000/50000 [==============================] - 9s 179us/step - loss: 0.8282 - accuracy: 0.7165 - val_loss: 0.9302 - val_accuracy: 0.6853\n",
            "Epoch 9/15\n",
            "50000/50000 [==============================] - 9s 178us/step - loss: 0.7974 - accuracy: 0.7264 - val_loss: 0.9570 - val_accuracy: 0.6772\n",
            "Epoch 10/15\n",
            "50000/50000 [==============================] - 9s 180us/step - loss: 0.7716 - accuracy: 0.7358 - val_loss: 0.9269 - val_accuracy: 0.6866\n",
            "Epoch 11/15\n",
            "50000/50000 [==============================] - 9s 181us/step - loss: 0.7511 - accuracy: 0.7437 - val_loss: 0.9376 - val_accuracy: 0.6908\n",
            "Epoch 12/15\n",
            "50000/50000 [==============================] - 9s 181us/step - loss: 0.7285 - accuracy: 0.7501 - val_loss: 0.9455 - val_accuracy: 0.6889\n",
            "Epoch 13/15\n",
            "50000/50000 [==============================] - 9s 179us/step - loss: 0.7100 - accuracy: 0.7570 - val_loss: 0.9242 - val_accuracy: 0.6945\n",
            "Epoch 14/15\n",
            "50000/50000 [==============================] - 9s 179us/step - loss: 0.6994 - accuracy: 0.7592 - val_loss: 0.9053 - val_accuracy: 0.6992\n",
            "Epoch 15/15\n",
            "50000/50000 [==============================] - 9s 179us/step - loss: 0.6773 - accuracy: 0.7668 - val_loss: 0.9233 - val_accuracy: 0.6917\n"
          ],
          "name": "stdout"
        },
        {
          "output_type": "display_data",
          "data": {
            "image/png": "[encoded data removed]",
            "text/plain": [
              "<Figure size 432x288 with 1 Axes>"
            ]
          },
          "metadata": {
            "tags": [],
            "needs_background": "light"
          }
        }
      ]
    }
  ]
}