{
  "nbformat": 4,
  "nbformat_minor": 0,
  "metadata": {
    "colab": {
      "name": "HW5.ipynb",
      "provenance": [],
      "authorship_tag": "ABX9TyPK2FEdKO3bJjYJjzKe3J4J",
      "include_colab_link": true
    },
    "kernelspec": {
      "name": "python3",
      "display_name": "Python 3"
    }
  },
  "cells": [
    {
      "cell_type": "markdown",
      "metadata": {
        "id": "view-in-github",
        "colab_type": "text"
      },
      "source": [
        "<a href=\"https://colab.research.google.com/github/hdgh463/AI/blob/master/HW5.ipynb\" target=\"_parent\"><img src=\"https://colab.research.google.com/assets/colab-badge.svg\" alt=\"Open In Colab\"/></a>"
      ]
    },
    {
      "cell_type": "code",
      "metadata": {
        "id": "fQ3MgDflrs4c",
        "colab_type": "code",
        "colab": {
          "base_uri": "https://localhost:8080/",
          "height": 734
        },
        "outputId": "a9b2ad97-3108-4ec8-a362-b27253e70e61"
      },
      "source": [
        "\n",
        "import keras\n",
        "from keras.datasets import mnist\n",
        "from keras.models import Sequential\n",
        "from keras.layers import Dense, Dropout, LeakyReLU, Conv2D\n",
        "from keras.optimizers import RMSprop\n",
        "from keras import backend as K\n",
        "from matplotlib.pyplot import imshow\n",
        "import numpy as np\n",
        "\n",
        "\n",
        "(x_train, y_train), (x_test, y_test) = mnist.load_data() #導入資料\n",
        "\n",
        "x_train = x_train.reshape(60000, 784) #修改資料排序\n",
        "x_test = x_test.reshape(10000, 784) #修改資料排序\n",
        "x_train = x_train.astype('float32') #改成浮點數\n",
        "x_test = x_test.astype('float32') #改成浮點數\n",
        "x_train /= 255 #整理資料\n",
        "x_test /= 255 #整理資料\n",
        "print(x_train.shape[0], 'train samples') #顯示資料列大小\n",
        "print(x_test.shape[0], 'test samples') #顯示資料列大小\n",
        "y_train = keras.utils.to_categorical(y_train)#, num_classes) #建立答案\n",
        "y_test = keras.utils.to_categorical(y_test)#, num_classes) #建立答案\n",
        "\n",
        "model = Sequential() #建立模型\n",
        "model.add(Dense(20, activation=LeakyReLU(), input_shape=(784,))) #20個神經元 輸入784維的數據\n",
        "model.add(Dense(20, activation=LeakyReLU())) #隱藏層20個神經元\n",
        "model.add(Dense(10, activation='softmax')) #10個輸出\n",
        "model.summary() #顯示模型\n",
        "\n",
        "model.compile(loss='categorical_crossentropy', \n",
        "              optimizer=RMSprop(),\n",
        "              metrics=['accuracy']) #優化器\n",
        "\n",
        "history = model.fit(x_train, y_train,\n",
        "                    batch_size=128,\n",
        "                    epochs=10,\n",
        "                    verbose=1,\n",
        "                    validation_data=(x_test, y_test)) #訓練10次\n",
        "\n",
        "scores = model.evaluate(x_test, y_test) #評估模型\n",
        "print(scores[1]) #展示第一筆資料"
      ],
      "execution_count": 2,
      "outputs": [
        {
          "output_type": "stream",
          "text": [
            "60000 train samples\n",
            "10000 test samples\n",
            "Model: \"sequential_2\"\n",
            "_________________________________________________________________\n",
            "Layer (type)                 Output Shape              Param #   \n",
            "=================================================================\n",
            "dense_4 (Dense)              (None, 20)                15700     \n",
            "_________________________________________________________________\n",
            "dense_5 (Dense)              (None, 20)                420       \n",
            "_________________________________________________________________\n",
            "dense_6 (Dense)              (None, 10)                210       \n",
            "=================================================================\n",
            "Total params: 16,330\n",
            "Trainable params: 16,330\n",
            "Non-trainable params: 0\n",
            "_________________________________________________________________\n"
          ],
          "name": "stdout"
        },
        {
          "output_type": "stream",
          "text": [
            "/usr/local/lib/python3.6/dist-packages/keras/activations.py:235: UserWarning: Do not pass a layer instance (such as LeakyReLU) as the activation argument of another layer. Instead, advanced activation layers should be used just like any other layer in a model.\n",
            "  identifier=identifier.__class__.__name__))\n"
          ],
          "name": "stderr"
        },
        {
          "output_type": "stream",
          "text": [
            "Train on 60000 samples, validate on 10000 samples\n",
            "Epoch 1/10\n",
            "60000/60000 [==============================] - 1s 17us/step - loss: 0.5670 - accuracy: 0.8440 - val_loss: 0.3071 - val_accuracy: 0.9090\n",
            "Epoch 2/10\n",
            "60000/60000 [==============================] - 1s 16us/step - loss: 0.2820 - accuracy: 0.9189 - val_loss: 0.2476 - val_accuracy: 0.9302\n",
            "Epoch 3/10\n",
            "60000/60000 [==============================] - 1s 17us/step - loss: 0.2423 - accuracy: 0.9309 - val_loss: 0.2249 - val_accuracy: 0.9332\n",
            "Epoch 4/10\n",
            "60000/60000 [==============================] - 1s 16us/step - loss: 0.2170 - accuracy: 0.9371 - val_loss: 0.2105 - val_accuracy: 0.9360\n",
            "Epoch 5/10\n",
            "60000/60000 [==============================] - 1s 17us/step - loss: 0.1985 - accuracy: 0.9425 - val_loss: 0.2011 - val_accuracy: 0.9388\n",
            "Epoch 6/10\n",
            "60000/60000 [==============================] - 1s 16us/step - loss: 0.1840 - accuracy: 0.9456 - val_loss: 0.1889 - val_accuracy: 0.9452\n",
            "Epoch 7/10\n",
            "60000/60000 [==============================] - 1s 16us/step - loss: 0.1726 - accuracy: 0.9490 - val_loss: 0.1796 - val_accuracy: 0.9458\n",
            "Epoch 8/10\n",
            "60000/60000 [==============================] - 1s 17us/step - loss: 0.1628 - accuracy: 0.9516 - val_loss: 0.1685 - val_accuracy: 0.9501\n",
            "Epoch 9/10\n",
            "60000/60000 [==============================] - 1s 17us/step - loss: 0.1552 - accuracy: 0.9531 - val_loss: 0.1664 - val_accuracy: 0.9522\n",
            "Epoch 10/10\n",
            "60000/60000 [==============================] - 1s 17us/step - loss: 0.1488 - accuracy: 0.9553 - val_loss: 0.1579 - val_accuracy: 0.9563\n",
            "10000/10000 [==============================] - 0s 19us/step\n",
            "0.9563000202178955\n"
          ],
          "name": "stdout"
        }
      ]
    }
  ]
}