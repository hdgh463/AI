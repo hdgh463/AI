{
  "nbformat": 4,
  "nbformat_minor": 0,
  "metadata": {
    "colab": {
      "name": "HW10.ipynb",
      "provenance": [],
      "authorship_tag": "ABX9TyMqDDu1UJrWXLbxfEtVcqn6",
      "include_colab_link": true
    },
    "kernelspec": {
      "name": "python3",
      "display_name": "Python 3"
    },
    "accelerator": "GPU"
  },
  "cells": [
    {
      "cell_type": "markdown",
      "metadata": {
        "id": "view-in-github",
        "colab_type": "text"
      },
      "source": [
        "<a href=\"https://colab.research.google.com/github/hdgh463/AI/blob/master/HW10.ipynb\" target=\"_parent\"><img src=\"https://colab.research.google.com/assets/colab-badge.svg\" alt=\"Open In Colab\"/></a>"
      ]
    },
    {
      "cell_type": "code",
      "metadata": {
        "id": "sFBfJKBZWCHK",
        "colab_type": "code",
        "colab": {
          "base_uri": "https://localhost:8080/",
          "height": 462
        },
        "outputId": "9d6c0e4f-42e6-411f-d739-6e199fd23ac8"
      },
      "source": [
        "!wget https://raw.githubusercontent.com/joshhu/must_examples/master/my_seg_small.txt #下載文件\n",
        "\n",
        "\n",
        "import sys\n",
        "from gensim.models import word2vec\n",
        "from gensim import models\n",
        "\n",
        "sentences = word2vec.LineSentence(\"my_seg_small.txt\") #導入文件\n",
        "model = word2vec.Word2Vec(sentences, size=5, min_count=1, negative=10) #放入Word2Vec\n",
        "\n",
        "model.save('word2vec.model') #處存訓練好的資料\n",
        "model.wv.save_word2vec_format('word2vec.model', binary = False) #儲存詞向量\n",
        "print('done')\n",
        "\n",
        "\n",
        "input_str = \"吃\"  #輸入\n",
        "res = model.wv.most_similar(input_str) #找跟輸入有關的詞\n",
        "for item in res: \n",
        "      print(item[0] + ':' + str(item[1])) #顯示有關的詞和出現機率"
      ],
      "execution_count": 5,
      "outputs": [
        {
          "output_type": "stream",
          "text": [
            "--2020-04-26 02:47:55--  https://raw.githubusercontent.com/joshhu/must_examples/master/my_seg_small.txt\n",
            "Resolving raw.githubusercontent.com (raw.githubusercontent.com)... 151.101.0.133, 151.101.64.133, 151.101.128.133, ...\n",
            "Connecting to raw.githubusercontent.com (raw.githubusercontent.com)|151.101.0.133|:443... connected.\n",
            "HTTP request sent, awaiting response... 200 OK\n",
            "Length: 398 [text/plain]\n",
            "Saving to: ‘my_seg_small.txt.4’\n",
            "\n",
            "\rmy_seg_small.txt.4    0%[                    ]       0  --.-KB/s               \rmy_seg_small.txt.4  100%[===================>]     398  --.-KB/s    in 0s      \n",
            "\n",
            "2020-04-26 02:47:55 (32.1 MB/s) - ‘my_seg_small.txt.4’ saved [398/398]\n",
            "\n",
            "done\n",
            "烤鴨:0.7417002320289612\n",
            "上海:0.2443649172782898\n",
            "台北:0.1370515525341034\n",
            "玩:-0.032470330595970154\n",
            "帝都:-0.033374473452568054\n",
            "北京:-0.11411049962043762\n",
            "飯:-0.5884639620780945\n",
            "下午茶:-0.7547017931938171\n",
            "吃下午茶:-0.9354969263076782\n"
          ],
          "name": "stdout"
        },
        {
          "output_type": "stream",
          "text": [
            "/usr/local/lib/python3.6/dist-packages/smart_open/smart_open_lib.py:253: UserWarning: This function is deprecated, use smart_open.open instead. See the migration notes for details: https://github.com/RaRe-Technologies/smart_open/blob/master/README.rst#migrating-to-the-new-open-function\n",
            "  'See the migration notes for details: %s' % _MIGRATION_NOTES_URL\n",
            "/usr/local/lib/python3.6/dist-packages/gensim/matutils.py:737: FutureWarning: Conversion of the second argument of issubdtype from `int` to `np.signedinteger` is deprecated. In future, it will be treated as `np.int64 == np.dtype(int).type`.\n",
            "  if np.issubdtype(vec.dtype, np.int):\n"
          ],
          "name": "stderr"
        }
      ]
    }
  ]
}