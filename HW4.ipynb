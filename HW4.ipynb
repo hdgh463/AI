{
  "nbformat": 4,
  "nbformat_minor": 0,
  "metadata": {
    "colab": {
      "name": "HW4.ipynb",
      "provenance": [],
      "authorship_tag": "ABX9TyPsygzCdL7esqmbPFxciKfs",
      "include_colab_link": true
    },
    "kernelspec": {
      "name": "python3",
      "display_name": "Python 3"
    }
  },
  "cells": [
    {
      "cell_type": "markdown",
      "metadata": {
        "id": "view-in-github",
        "colab_type": "text"
      },
      "source": [
        "<a href=\"https://colab.research.google.com/github/hdgh463/AI/blob/master/HW4.ipynb\" target=\"_parent\"><img src=\"https://colab.research.google.com/assets/colab-badge.svg\" alt=\"Open In Colab\"/></a>"
      ]
    },
    {
      "cell_type": "code",
      "metadata": {
        "id": "7UI6Bn7LnnGG",
        "colab_type": "code",
        "colab": {
          "base_uri": "https://localhost:8080/",
          "height": 221
        },
        "outputId": "e37e6404-206d-4b1f-b782-40ea294aa1b5"
      },
      "source": [
        "import keras\n",
        "from keras.models import Sequential\n",
        "from keras.layers import Dense, Dropout, Flatten\n",
        "\n",
        "model = Sequential() #建立模型\n",
        "model.add(Flatten()) #將輸入攤平\n",
        "model.add(Dense(512, activation='relu')) #建立隱藏層512個神經元\n",
        "model.add(Dropout(0.2)) #防止過度擬和\n",
        "model.add(Dense(10, activation='softmax')) #建立輸出層10個神經元\n",
        "model.compile(optimizer='adam', loss='sparse_categorical_crossentropy', metrics=['accuracy']) #優化器\n",
        "\n",
        "import tensorflow as tf\n",
        "mnist = tf.keras.datasets.mnist #導入資料\n",
        "(x_train, y_train),(x_test, y_test) = mnist.load_data() #建立訓練測試資料\n",
        "x_train, x_test = x_train / 255.0, x_test / 255.0 #處理資料\n",
        "\n",
        "model.fit(x_train, y_train, epochs=5) #訓練5次\n",
        "model.evaluate(x_test, y_test) #評估模型"
      ],
      "execution_count": 2,
      "outputs": [
        {
          "output_type": "stream",
          "text": [
            "Epoch 1/5\n",
            "60000/60000 [==============================] - 11s 189us/step - loss: 0.2189 - accuracy: 0.9352\n",
            "Epoch 2/5\n",
            "60000/60000 [==============================] - 11s 190us/step - loss: 0.0971 - accuracy: 0.9699\n",
            "Epoch 3/5\n",
            "60000/60000 [==============================] - 11s 188us/step - loss: 0.0690 - accuracy: 0.9788\n",
            "Epoch 4/5\n",
            "60000/60000 [==============================] - 11s 190us/step - loss: 0.0535 - accuracy: 0.9827\n",
            "Epoch 5/5\n",
            "60000/60000 [==============================] - 11s 189us/step - loss: 0.0434 - accuracy: 0.9862\n",
            "10000/10000 [==============================] - 1s 50us/step\n"
          ],
          "name": "stdout"
        },
        {
          "output_type": "execute_result",
          "data": {
            "text/plain": [
              "[0.06700420302205021, 0.9799000024795532]"
            ]
          },
          "metadata": {
            "tags": []
          },
          "execution_count": 2
        }
      ]
    }
  ]
}