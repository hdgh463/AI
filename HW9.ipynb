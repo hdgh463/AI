{
  "nbformat": 4,
  "nbformat_minor": 0,
  "metadata": {
    "colab": {
      "name": "HW9.ipynb",
      "provenance": [],
      "authorship_tag": "ABX9TyMakO8E3h4EQx+fJVDDAcUu",
      "include_colab_link": true
    },
    "kernelspec": {
      "name": "python3",
      "display_name": "Python 3"
    }
  },
  "cells": [
    {
      "cell_type": "markdown",
      "metadata": {
        "id": "view-in-github",
        "colab_type": "text"
      },
      "source": [
        "<a href=\"https://colab.research.google.com/github/hdgh463/AI/blob/master/HW9.ipynb\" target=\"_parent\"><img src=\"https://colab.research.google.com/assets/colab-badge.svg\" alt=\"Open In Colab\"/></a>"
      ]
    },
    {
      "cell_type": "code",
      "metadata": {
        "id": "B0LPuz4yr3N6",
        "colab_type": "code",
        "colab": {
          "base_uri": "https://localhost:8080/",
          "height": 986
        },
        "outputId": "86f3ae7b-7b48-490a-ba03-fde38a4f1b17"
      },
      "source": [
        "from keras.datasets import mnist\n",
        "from keras.layers import Dense, LSTM\n",
        "from keras.utils import to_categorical\n",
        "from keras.models import Sequential\n",
        "\n",
        "#parameters for LSTM\n",
        "nb_lstm_outputs = 30  \n",
        "nb_time_steps = 28  \n",
        "nb_input_vector = 28 \n",
        "\n",
        "#data preprocessing: tofloat32, normalization, one_hot encoding\n",
        "(x_train, y_train), (x_test, y_test) = mnist.load_data()\n",
        "x_train = x_train.astype('float32')\n",
        "x_test = x_test.astype('float32')\n",
        "x_train /= 255\n",
        "x_test /= 255\n",
        " \n",
        "y_train = to_categorical(y_train, num_classes=10)\n",
        "y_test = to_categorical(y_test, num_classes=10)\n",
        "\n",
        "#build model\n",
        "model = Sequential()\n",
        "model.add(LSTM(units=nb_lstm_outputs, input_shape=(nb_time_steps, nb_input_vector)))\n",
        "model.add(Dense(10, activation='softmax'))\n",
        "\n",
        "#compile:loss, optimizer, metrics\n",
        "model.compile(loss='categorical_crossentropy', optimizer='adam', metrics=['accuracy'])\n",
        "#train: epcoch, batch_size\n",
        "model.fit(x_train, y_train, epochs=20, batch_size=128, verbose=1)\n",
        "\n",
        "model.summary()\n",
        "\n",
        "score = model.evaluate(x_test, y_test,batch_size=128, verbose=1)\n",
        "print(score)\n"
      ],
      "execution_count": 1,
      "outputs": [
        {
          "output_type": "stream",
          "text": [
            "Using TensorFlow backend.\n"
          ],
          "name": "stderr"
        },
        {
          "output_type": "stream",
          "text": [
            "Downloading data from https://s3.amazonaws.com/img-datasets/mnist.npz\n",
            "11493376/11490434 [==============================] - 1s 0us/step\n",
            "Epoch 1/20\n",
            "60000/60000 [==============================] - 12s 196us/step - loss: 1.0010 - accuracy: 0.6866\n",
            "Epoch 2/20\n",
            "60000/60000 [==============================] - 11s 184us/step - loss: 0.3463 - accuracy: 0.8984\n",
            "Epoch 3/20\n",
            "60000/60000 [==============================] - 11s 185us/step - loss: 0.2408 - accuracy: 0.9305\n",
            "Epoch 4/20\n",
            "60000/60000 [==============================] - 11s 186us/step - loss: 0.1917 - accuracy: 0.9445\n",
            "Epoch 5/20\n",
            "60000/60000 [==============================] - 11s 187us/step - loss: 0.1634 - accuracy: 0.9530\n",
            "Epoch 6/20\n",
            "60000/60000 [==============================] - 11s 186us/step - loss: 0.1400 - accuracy: 0.9594\n",
            "Epoch 7/20\n",
            "60000/60000 [==============================] - 11s 184us/step - loss: 0.1249 - accuracy: 0.9642\n",
            "Epoch 8/20\n",
            "60000/60000 [==============================] - 11s 185us/step - loss: 0.1120 - accuracy: 0.9682\n",
            "Epoch 9/20\n",
            "60000/60000 [==============================] - 11s 185us/step - loss: 0.1026 - accuracy: 0.9704\n",
            "Epoch 10/20\n",
            "60000/60000 [==============================] - 11s 183us/step - loss: 0.0940 - accuracy: 0.9728\n",
            "Epoch 11/20\n",
            "60000/60000 [==============================] - 11s 185us/step - loss: 0.0883 - accuracy: 0.9743\n",
            "Epoch 12/20\n",
            "60000/60000 [==============================] - 11s 184us/step - loss: 0.0820 - accuracy: 0.9760\n",
            "Epoch 13/20\n",
            "60000/60000 [==============================] - 11s 185us/step - loss: 0.0771 - accuracy: 0.9773\n",
            "Epoch 14/20\n",
            "60000/60000 [==============================] - 11s 183us/step - loss: 0.0733 - accuracy: 0.9784\n",
            "Epoch 15/20\n",
            "60000/60000 [==============================] - 11s 181us/step - loss: 0.0690 - accuracy: 0.9794\n",
            "Epoch 16/20\n",
            "60000/60000 [==============================] - 11s 180us/step - loss: 0.0664 - accuracy: 0.9809\n",
            "Epoch 17/20\n",
            "60000/60000 [==============================] - 11s 179us/step - loss: 0.0618 - accuracy: 0.9816\n",
            "Epoch 18/20\n",
            "60000/60000 [==============================] - 11s 179us/step - loss: 0.0595 - accuracy: 0.9821\n",
            "Epoch 19/20\n",
            "60000/60000 [==============================] - 11s 183us/step - loss: 0.0574 - accuracy: 0.9831\n",
            "Epoch 20/20\n",
            "60000/60000 [==============================] - 11s 181us/step - loss: 0.0566 - accuracy: 0.9826\n",
            "Model: \"sequential_1\"\n",
            "_________________________________________________________________\n",
            "Layer (type)                 Output Shape              Param #   \n",
            "=================================================================\n",
            "lstm_1 (LSTM)                (None, 30)                7080      \n",
            "_________________________________________________________________\n",
            "dense_1 (Dense)              (None, 10)                310       \n",
            "=================================================================\n",
            "Total params: 7,390\n",
            "Trainable params: 7,390\n",
            "Non-trainable params: 0\n",
            "_________________________________________________________________\n",
            "10000/10000 [==============================] - 1s 54us/step\n",
            "[0.07495049603432417, 0.9785000085830688]\n"
          ],
          "name": "stdout"
        }
      ]
    }
  ]
}